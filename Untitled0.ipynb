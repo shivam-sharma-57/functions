{
  "nbformat": 4,
  "nbformat_minor": 0,
  "metadata": {
    "colab": {
      "provenance": []
    },
    "kernelspec": {
      "name": "python3",
      "display_name": "Python 3"
    },
    "language_info": {
      "name": "python"
    }
  },
  "cells": [
    {
      "cell_type": "markdown",
      "source": [
        "1. what is the difference between a function and a method in python.\n",
        "    -   A function in Python is an independent block of code that performs a specific task and can be called by name from anywhere in the program, while a method is a function that is defined within a class and is associated with an object or class instance, requiring that association for invocation.\n",
        "  \n"
      ],
      "metadata": {
        "id": "MZDIOhthPlb2"
      }
    },
    {
      "cell_type": "code",
      "execution_count": 1,
      "metadata": {
        "colab": {
          "base_uri": "https://localhost:8080/",
          "height": 35
        },
        "id": "dpixzeimPin0",
        "outputId": "79e680df-55cb-48a3-f701-5493cb1eee82"
      },
      "outputs": [
        {
          "output_type": "execute_result",
          "data": {
            "text/plain": [
              "'\\nthis is comment\\n'"
            ],
            "application/vnd.google.colaboratory.intrinsic+json": {
              "type": "string"
            }
          },
          "metadata": {},
          "execution_count": 1
        }
      ],
      "source": [
        "# question\n",
        "\n",
        "\"\"\"\n",
        "this is comment\n",
        "\"\"\"\n"
      ]
    }
  ]
}